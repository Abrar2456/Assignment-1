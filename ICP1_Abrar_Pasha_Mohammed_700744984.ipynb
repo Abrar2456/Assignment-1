{
 "cells": [
  {
   "cell_type": "code",
   "execution_count": 1,
   "id": "a5230933",
   "metadata": {},
   "outputs": [
    {
     "name": "stdout",
     "output_type": "stream",
     "text": [
      "Please input the string 'Python': Python\n",
      "noht\n"
     ]
    }
   ],
   "source": [
    "# Taking input from the user\n",
    "user_input_string = list(input(\"Please input the string 'Python': \")) \n",
    "# Checking if length of the input from user is greater than or equal to 2 (Not accepting strings less that 2 characters)\n",
    "if len(user_input_string) >= 2:\n",
    "    # deleting first two characters from the string\n",
    "    del user_input_string[:2]\n",
    "    # reversing the string after deleting characters\n",
    "    output_reversed_string = user_input_string[::-1]\n",
    "    # printing reversed string\n",
    "    print(\"\".join(output_reversed_string))\n",
    "else:\n",
    "    # Denying user from going into the conditions if given input is less than 2 characters\n",
    "    print(\"Sorry! the input string has less that 2 characters.\")\n",
    "\n",
    "\n",
    "\n"
   ]
  },
  {
   "cell_type": "code",
   "execution_count": 4,
   "id": "369ac6de",
   "metadata": {},
   "outputs": [
    {
     "name": "stdout",
     "output_type": "stream",
     "text": [
      "Enter the 1st number: 5\n",
      "Enter the 2nd number: 5\n",
      "Sum: 10.0\n",
      "Difference: 0.0\n",
      "Product: 25.0\n",
      "Quotient: 1.0\n",
      "Remainder: 0.0\n"
     ]
    }
   ],
   "source": [
    "# Taking input from console\n",
    "number1 = float(input(\"Enter the 1st number: \"))\n",
    "number2 = float(input(\"Enter the 2nd number: \"))\n",
    "\n",
    "# Performing five arithmetic operations with respect to the problem statement\n",
    "sum = number1 + number2\n",
    "difference = number1 - number2\n",
    "product = number1 * number2\n",
    "quotient = number1 / number2\n",
    "remainder = number1 % number2\n",
    "\n",
    "# Results after performing the operations\n",
    "print(f\"Sum: {sum}\")\n",
    "print(f\"Difference: {difference}\")\n",
    "print(f\"Product: {product}\")\n",
    "print(f\"Quotient: {quotient}\")\n",
    "print(f\"Remainder: {remainder}\")"
   ]
  },
  {
   "cell_type": "code",
   "execution_count": 5,
   "id": "e33c7fe5",
   "metadata": {},
   "outputs": [
    {
     "name": "stdout",
     "output_type": "stream",
     "text": [
      "Enter a sentence: python is a python\n",
      "Altered Sentence: pythons is a pythons\n"
     ]
    }
   ],
   "source": [
    "# Given sentence from the console/user\n",
    "input_sentence = input(\"Enter a sentence: \")\n",
    "\n",
    "# Replacing every occurrence of 'python' with 'pythons' in the given input\n",
    "altered_sentence = input_sentence.replace('python', 'pythons')\n",
    "\n",
    "# Printing the altered sentence\n",
    "print(\"Altered Sentence:\", altered_sentence)"
   ]
  },
  {
   "cell_type": "code",
   "execution_count": 8,
   "id": "edb06ca6",
   "metadata": {},
   "outputs": [
    {
     "name": "stdout",
     "output_type": "stream",
     "text": [
      "Enter the score in class: 65\n",
      "Letter Grade: D\n"
     ]
    }
   ],
   "source": [
    "# Input class score from the user\n",
    "score_in_class = float(input(\"Enter the score in class: \"))\n",
    "\n",
    "# Grading scheme according to Neural Networks Deep Learning\n",
    "if 90 <= score_in_class <= 100:\n",
    "    result_grade = 'A'\n",
    "elif 80 <= score_in_class < 89:\n",
    "    result_grade = 'B'\n",
    "elif 70 <= score_in_class < 79:\n",
    "    result_grade = 'C'\n",
    "elif 60 <= score_in_class < 69:\n",
    "    result_grade = 'D'\n",
    "elif 0 <= score_in_class < 60:\n",
    "    result_grade = 'F'\n",
    "else:\n",
    "    result_grade = 'Score is invalid'\n",
    "\n",
    "# Print the grade according to scheme\n",
    "print(f\"Letter Grade: {result_grade}\")"
   ]
  },
  {
   "cell_type": "code",
   "execution_count": null,
   "id": "f29f5168",
   "metadata": {},
   "outputs": [],
   "source": []
  }
 ],
 "metadata": {
  "kernelspec": {
   "display_name": "Python 3 (ipykernel)",
   "language": "python",
   "name": "python3"
  },
  "language_info": {
   "codemirror_mode": {
    "name": "ipython",
    "version": 3
   },
   "file_extension": ".py",
   "mimetype": "text/x-python",
   "name": "python",
   "nbconvert_exporter": "python",
   "pygments_lexer": "ipython3",
   "version": "3.10.9"
  }
 },
 "nbformat": 4,
 "nbformat_minor": 5
}
